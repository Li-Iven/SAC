{
 "cells": [
  {
   "cell_type": "markdown",
   "metadata": {},
   "source": [
    "<h1 style='color: orange' align=\"center\">Лабораторная работа №1</h1>"
   ]
  },
  {
   "cell_type": "markdown",
   "metadata": {},
   "source": [
    "<p> <b>Студент:</b> Ивенкова Л.В.<br> \n",
    "    <b>Группа:</b> М8О-208Б-19<br> \n",
    "    <b>Преподаватель:</b> Гавриш О.Н.</p>",
    "    <b>Комментарии проверяющего:</b> Проверка периодичности: не до конца верно. Не во всех случаях выдаст правильный результат ваш метод.</p>"
   ]
  },
  {
   "cell_type": "markdown",
   "metadata": {},
   "source": [
    "<h2 align=\"center\">Часть 1 - Квадратик</h2>"
   ]
  },
  {
   "cell_type": "markdown",
   "metadata": {},
   "source": [
    "<b>Задание:</b> при помощи функции отображения графиков отобразить квадратик.\n",
    "Задав квадратик матрицей координат, повернуть и сдвинуть его относительно исходного положения.\n",
    "Вывести исходный квадратик и результат."
   ]
  },
  {
   "cell_type": "code",
   "execution_count": 1,
   "metadata": {},
   "outputs": [
    {
     "data": {
      "image/png": "[encoded data removed]",
      "text/plain": [
       "Graphics object consisting of 2 graphics primitives"
      ]
     },
     "metadata": {},
     "output_type": "display_data"
    }
   ],
   "source": [
    "a = 10 #сторона квадрата\n",
    "alpha = math.radians(30)\n",
    "\n",
    "v = matrix([             # матрица координат\n",
    "    [0,0], [0,a],\n",
    "    [a,a], [a,0],\n",
    "    [0,0]\n",
    "])\n",
    "\n",
    "matrix_rotate = matrix([        # матрица поворота\n",
    "    [cos(alpha), -sin(alpha)],\n",
    "    [sin(alpha), cos(alpha)]\n",
    "])\n",
    "\n",
    "matrix_move = matrix([             # матрица перемещения\n",
    "    [10,13], [10,13],\n",
    "    [10,13], [10,13],\n",
    "    [10,13]\n",
    "])\n",
    "\n",
    "\n",
    "v_new = v * matrix_rotate + matrix_move\n",
    "\n",
    "show(line(v, color='green') + line(v_new, color='purple'), xmin=0, xmax=30, ymin=0, ymax=30, aspect_ratio=1)"
   ]
  },
  {
   "cell_type": "markdown",
   "metadata": {},
   "source": [
    "<h2 align=\"center\">Часть 2 - Исследование функции</h2>"
   ]
  },
  {
   "cell_type": "markdown",
   "metadata": {},
   "source": [
    "Для заданной формулой функции найти:\n",
    "<ol>\n",
    "    <li>Область определения функции.</li>\n",
    "    <li>Является ли функция четной или нечетной, является ли периодической.</li>\n",
    "    <li>Точки пересечения графика с осями координат.</li>\n",
    "    <li>Промежутки знакопостоянства.</li>\n",
    "    <li>Промежутки возрастания и убывания.</li>\n",
    "    <li>Точки экстремума и значения в этих точках.</li>\n",
    "    <li>Непрерывность. Наличие точек разрыва и их классификация.</li>\n",
    "    <li>Асимптоты.</li>\n",
    "</ol>\n",
    "Построить график функции, асимптоты, промежутки знакопостоянства.<br>"
   ]
  },
  {
   "cell_type": "markdown",
   "metadata": {},
   "source": [
    "<b>Вариант</b> 3.\n",
    "\n",
    "<b>Функция:</b> $\\frac{1}{2} \\times \\ln{\\bigg( \\frac{\\sqrt{x^2 + 1}}{\\sqrt{x^2 - 1}}\\bigg)} - 15\\times x^2$"
   ]
  },
  {
   "cell_type": "code",
   "execution_count": 2,
   "metadata": {},
   "outputs": [
    {
     "data": {
      "text/html": [
       "<html><script type=\"math/tex; mode=display\">\\newcommand{\\Bold}[1]{\\mathbf{#1}}x \\ {\\mapsto}\\ -15 \\, x^{2} + \\frac{1}{2} \\, \\log\\left(\\frac{\\sqrt{x^{2} + 1}}{\\sqrt{x^{2} - 1}}\\right)</script></html>"
      ],
      "text/latex": [
       "\\begin{math}\n",
       "\\newcommand{\\Bold}[1]{\\mathbf{#1}}x \\ {\\mapsto}\\ -15 \\, x^{2} + \\frac{1}{2} \\, \\log\\left(\\frac{\\sqrt{x^{2} + 1}}{\\sqrt{x^{2} - 1}}\\right)\n",
       "\\end{math}"
      ],
      "text/plain": [
       "x |--> -15*x^2 + 1/2*log(sqrt(x^2 + 1)/sqrt(x^2 - 1))"
      ]
     },
     "metadata": {},
     "output_type": "display_data"
    }
   ],
   "source": [
    "y(x) = 1/2 * ln(sqrt(x**2 + 1) / sqrt(x**2 - 1)) - 15*x**2\n",
    "show(y)"
   ]
  },
  {
   "cell_type": "markdown",
   "metadata": {},
   "source": [
    "<h2>1. Область определения функции.</h2>"
   ]
  },
  {
   "cell_type": "markdown",
   "metadata": {},
   "source": [
    "Для функции $y(x)$ есть четыре условия:\n",
    "<ol>\n",
    "    <li>Подкоренное выражение в числителе $(x^2 + 1) \\neq 0$</li>\n",
    "    <li>Подкоренное выражение в знаменателе $(x^2 - 1) \\neq 0$</li>\n",
    "    <li>Знаменатель $\\sqrt{x^2 - 1} \\neq 0$</li>\n",
    "    <li>Выражение под логарифмом $ \\frac{\\sqrt{x^2 + 1}}{\\sqrt{x^2 - 1}} > 0$</li>\n",
    "</ol>\n",
    "\n",
    "Первое условие выполняется всегда.  \n",
    "Условие 3 фактически повторяет условие 2.  \n",
    "Так как значиние корня всегда $> 0$, то условие 4 выполняется всегда, когда выполняются условия 1-3.  \n",
    "Следовательно, мы можем рассматривать лишь условие 2."
   ]
  },
  {
   "cell_type": "code",
   "execution_count": 3,
   "metadata": {},
   "outputs": [],
   "source": [
    "conditional = x**2 - 1 > 0"
   ]
  },
  {
   "cell_type": "markdown",
   "metadata": {},
   "source": [
    "Решим это неравенство:"
   ]
  },
  {
   "cell_type": "code",
   "execution_count": 4,
   "metadata": {},
   "outputs": [
    {
     "data": {
      "text/html": [
       "<html><script type=\"math/tex; mode=display\">\\newcommand{\\Bold}[1]{\\mathbf{#1}}\\verb|Область|\\phantom{\\verb!x!}\\verb|определения|\\phantom{\\verb!x!}\\verb|D|\\phantom{\\verb!x!}\\verb|=| \\left[\\left[x < \\left(-1\\right)\\right], \\left[x > 1\\right]\\right]</script></html>"
      ],
      "text/latex": [
       "\\begin{math}\n",
       "\\newcommand{\\Bold}[1]{\\mathbf{#1}}\\verb|Область|\\phantom{\\verb!x!}\\verb|определения|\\phantom{\\verb!x!}\\verb|D|\\phantom{\\verb!x!}\\verb|=| \\left[\\left[x < \\left(-1\\right)\\right], \\left[x > 1\\right]\\right]\n",
       "\\end{math}"
      ],
      "text/plain": [
       "'Область определения D = ' [[x < -1], [x > 1]]"
      ]
     },
     "metadata": {},
     "output_type": "display_data"
    }
   ],
   "source": [
    "D = solve(conditional, x)\n",
    "show(\"Область определения D = \",D)"
   ]
  },
  {
   "cell_type": "markdown",
   "metadata": {},
   "source": [
    "Построим график функции:"
   ]
  },
  {
   "cell_type": "code",
   "execution_count": 5,
   "metadata": {},
   "outputs": [
    {
     "data": {
      "image/png": "[encoded data removed]",
      "text/plain": [
       "Graphics object consisting of 2 graphics primitives"
      ]
     },
     "metadata": {},
     "output_type": "display_data"
    }
   ],
   "source": [
    "func = plot(y,(x,-10,-1-1e-15), ymin = -500, ymax = 1)\n",
    "func += plot(y,(x,1+1e-15,10), ymin = -500, ymax = 1)\n",
    "func.show()"
   ]
  },
  {
   "cell_type": "markdown",
   "metadata": {},
   "source": [
    "<h2>2. Является ли функция чётной или нечётной, является ли периодической.</h2>"
   ]
  },
  {
   "cell_type": "markdown",
   "metadata": {},
   "source": [
    "Из графика видно, что наша функция симметрична относительно оси OY, и несимметрична относительно начала координат (то есть она чётна и не нечётна). Также можно увидеть, что эта функция не периодична.  \n",
    "Проверим это с помощью вычислений:  "
   ]
  },
  {
   "cell_type": "markdown",
   "metadata": {},
   "source": [
    "а) Проверим, является ли наша функция чётной:"
   ]
  },
  {
   "cell_type": "code",
   "execution_count": 6,
   "metadata": {},
   "outputs": [
    {
     "data": {
      "text/plain": [
       "0"
      ]
     },
     "execution_count": 6,
     "metadata": {},
     "output_type": "execute_result"
    }
   ],
   "source": [
    "y(x) - y(-x)"
   ]
  },
  {
   "cell_type": "markdown",
   "metadata": {},
   "source": [
    "б) Проверим, является ли наша функция нечётной:"
   ]
  },
  {
   "cell_type": "code",
   "execution_count": 7,
   "metadata": {},
   "outputs": [
    {
     "data": {
      "text/plain": [
       "-30*x^2 + log(sqrt(x^2 + 1)/sqrt(x^2 - 1))"
      ]
     },
     "execution_count": 7,
     "metadata": {},
     "output_type": "execute_result"
    }
   ],
   "source": [
    "y(x) + y(-x)"
   ]
  },
  {
   "cell_type": "markdown",
   "metadata": {},
   "source": [
    "в) Проверим периодичность нашей функции:"
   ]
  },
  {
   "cell_type": "code",
   "execution_count": 8,
   "metadata": {},
   "outputs": [
    {
     "data": {
      "text/html": [
       "<html><script type=\"math/tex; mode=display\">\\newcommand{\\Bold}[1]{\\mathbf{#1}}T = -x - \\frac{1}{30} \\, \\sqrt{900 \\, x^{2} + 30 \\, \\log\\left(\\frac{\\sqrt{T^{2} + 2 \\, T x + x^{2} + 1}}{\\sqrt{T^{2} + 2 \\, T x + x^{2} - 1}}\\right) - 30 \\, \\log\\left(\\frac{\\sqrt{x^{2} + 1}}{\\sqrt{x^{2} - 1}}\\right)}</script></html>"
      ],
      "text/latex": [
       "\\begin{math}\n",
       "\\newcommand{\\Bold}[1]{\\mathbf{#1}}T = -x - \\frac{1}{30} \\, \\sqrt{900 \\, x^{2} + 30 \\, \\log\\left(\\frac{\\sqrt{T^{2} + 2 \\, T x + x^{2} + 1}}{\\sqrt{T^{2} + 2 \\, T x + x^{2} - 1}}\\right) - 30 \\, \\log\\left(\\frac{\\sqrt{x^{2} + 1}}{\\sqrt{x^{2} - 1}}\\right)}\n",
       "\\end{math}"
      ],
      "text/plain": [
       "T == -x - 1/30*sqrt(900*x^2 + 30*log(sqrt(T^2 + 2*T*x + x^2 + 1)/sqrt(T^2 + 2*T*x + x^2 - 1)) - 30*log(sqrt(x^2 + 1)/sqrt(x^2 - 1)))"
      ]
     },
     "metadata": {},
     "output_type": "display_data"
    },
    {
     "data": {
      "text/html": [
       "<html><script type=\"math/tex; mode=display\">\\newcommand{\\Bold}[1]{\\mathbf{#1}}T = -x + \\frac{1}{30} \\, \\sqrt{900 \\, x^{2} + 30 \\, \\log\\left(\\frac{\\sqrt{T^{2} + 2 \\, T x + x^{2} + 1}}{\\sqrt{T^{2} + 2 \\, T x + x^{2} - 1}}\\right) - 30 \\, \\log\\left(\\frac{\\sqrt{x^{2} + 1}}{\\sqrt{x^{2} - 1}}\\right)}</script></html>"
      ],
      "text/latex": [
       "\\begin{math}\n",
       "\\newcommand{\\Bold}[1]{\\mathbf{#1}}T = -x + \\frac{1}{30} \\, \\sqrt{900 \\, x^{2} + 30 \\, \\log\\left(\\frac{\\sqrt{T^{2} + 2 \\, T x + x^{2} + 1}}{\\sqrt{T^{2} + 2 \\, T x + x^{2} - 1}}\\right) - 30 \\, \\log\\left(\\frac{\\sqrt{x^{2} + 1}}{\\sqrt{x^{2} - 1}}\\right)}\n",
       "\\end{math}"
      ],
      "text/plain": [
       "T == -x + 1/30*sqrt(900*x^2 + 30*log(sqrt(T^2 + 2*T*x + x^2 + 1)/sqrt(T^2 + 2*T*x + x^2 - 1)) - 30*log(sqrt(x^2 + 1)/sqrt(x^2 - 1)))"
      ]
     },
     "metadata": {},
     "output_type": "display_data"
    }
   ],
   "source": [
    "var('T')\n",
    "periodicity = solve((y(x) - y(x + T))==0, T)\n",
    "for i in periodicity:\n",
    "    show(i.expand().simplify_full())"
   ]
  },
  {
   "cell_type": "markdown",
   "metadata": {},
   "source": [
    "Явных решений нет, Т находится по обе стороны уравнения, следовательно функция не является периодической."
   ]
  },
  {
   "cell_type": "markdown",
   "metadata": {},
   "source": [
    "Как мы видим, вычисления подтвердили наши наблюдения."
   ]
  },
  {
   "cell_type": "markdown",
   "metadata": {},
   "source": [
    "<h2>3. Точки пересечения графика с осями координат.</h2>"
   ]
  },
  {
   "cell_type": "markdown",
   "metadata": {},
   "source": [
    "Так как из ОДЗ $x \\neq 0$, то очевидно, что график не будет пересекать ось OY.  \n",
    "Следовательно, нам надо лишь найти, при каких $x$ $y(x) = 0$ ($y$ пересечёт ось OX)."
   ]
  },
  {
   "cell_type": "code",
   "execution_count": 9,
   "metadata": {},
   "outputs": [
    {
     "data": {
      "text/html": [
       "<html><script type=\"math/tex; mode=display\">\\newcommand{\\Bold}[1]{\\mathbf{#1}}x = -\\sqrt{\\frac{1}{30}} \\sqrt{\\log\\left(\\frac{\\sqrt{x^{2} + 1}}{\\sqrt{x^{2} - 1}}\\right)}</script></html>"
      ],
      "text/latex": [
       "\\begin{math}\n",
       "\\newcommand{\\Bold}[1]{\\mathbf{#1}}x = -\\sqrt{\\frac{1}{30}} \\sqrt{\\log\\left(\\frac{\\sqrt{x^{2} + 1}}{\\sqrt{x^{2} - 1}}\\right)}\n",
       "\\end{math}"
      ],
      "text/plain": [
       "x == -sqrt(1/30)*sqrt(log(sqrt(x^2 + 1)/sqrt(x^2 - 1)))"
      ]
     },
     "metadata": {},
     "output_type": "display_data"
    },
    {
     "data": {
      "text/html": [
       "<html><script type=\"math/tex; mode=display\">\\newcommand{\\Bold}[1]{\\mathbf{#1}}x = \\sqrt{\\frac{1}{30}} \\sqrt{\\log\\left(\\frac{\\sqrt{x^{2} + 1}}{\\sqrt{x^{2} - 1}}\\right)}</script></html>"
      ],
      "text/latex": [
       "\\begin{math}\n",
       "\\newcommand{\\Bold}[1]{\\mathbf{#1}}x = \\sqrt{\\frac{1}{30}} \\sqrt{\\log\\left(\\frac{\\sqrt{x^{2} + 1}}{\\sqrt{x^{2} - 1}}\\right)}\n",
       "\\end{math}"
      ],
      "text/plain": [
       "x == sqrt(1/30)*sqrt(log(sqrt(x^2 + 1)/sqrt(x^2 - 1)))"
      ]
     },
     "metadata": {},
     "output_type": "display_data"
    }
   ],
   "source": [
    "intersection = solve(y==0, x)\n",
    "for i in intersection:\n",
    "    show(i)"
   ]
  },
  {
   "cell_type": "markdown",
   "metadata": {},
   "source": [
    "Получается, функция не имеет пересечения с осью OX в действительном поле."
   ]
  },
  {
   "cell_type": "markdown",
   "metadata": {},
   "source": [
    "<h2>4. Промежутки знакопостоянства.</h2>"
   ]
  },
  {
   "cell_type": "markdown",
   "metadata": {},
   "source": [
    "По графику можно увидеть, что весь график функции лежит ниже оси OX.  \n",
    "Действительно, рассмотрим значения функции слева и справа от ОДЗ:"
   ]
  },
  {
   "cell_type": "code",
   "execution_count": 10,
   "metadata": {},
   "outputs": [
    {
     "data": {
      "text/plain": [
       "-17.5615899340514"
      ]
     },
     "execution_count": 10,
     "metadata": {},
     "output_type": "execute_result"
    }
   ],
   "source": [
    "y(-1 - 0.1)"
   ]
  },
  {
   "cell_type": "code",
   "execution_count": 11,
   "metadata": {},
   "outputs": [
    {
     "data": {
      "text/plain": [
       "-17.5615899340514"
      ]
     },
     "execution_count": 11,
     "metadata": {},
     "output_type": "execute_result"
    }
   ],
   "source": [
    "y(1 + 0.1)"
   ]
  },
  {
   "cell_type": "markdown",
   "metadata": {},
   "source": [
    "Видим, что и слева, и справа от ОДЗ функция принимает отрицательные значения."
   ]
  },
  {
   "cell_type": "code",
   "execution_count": 12,
   "metadata": {},
   "outputs": [
    {
     "data": {
      "image/png": "[encoded data removed]",
      "text/plain": [
       "Graphics object consisting of 8 graphics primitives"
      ]
     },
     "metadata": {},
     "output_type": "display_data"
    }
   ],
   "source": [
    "# отрисовка отрезка - основная линия для графика промежутков знакопостоянства\n",
    "intervals_of_constancy = plot(0, xmin=-2.5, xmax=2.5, ymin=-0.5, ymax=0.5, thickness = 2)\n",
    "\n",
    "# добавление красных маркеров - отметки точек\\маркеров\n",
    "intervals_of_constancy  += point((-1, 0), color=\"red\", size=30, zorder=10)\n",
    "intervals_of_constancy  += point((1, 0), color=\"red\", size=30,  zorder=10)\n",
    "\n",
    "# здесь добавляем подписи точек (значения по оси X)\n",
    "intervals_of_constancy  += text(\"$-1$\", (-1, 0.1), color=\"black\", fontsize=14)\n",
    "intervals_of_constancy  += text(\"$1$\", (1, 0.1), color=\"black\", fontsize=14)\n",
    "\n",
    "# Здесь добавляем подписи знаков промежутков знакопостоянства\n",
    "y_margin = 0.1  # смещение по оси Y элемента подписи, чтобы он не наслаивался на линию\n",
    "intervals_of_constancy  += text(\"-\", (-2 , y_margin), color=\"black\", fontsize=20) \n",
    "intervals_of_constancy  += text(\"не определена\", (0 , y_margin), color=\"black\", fontsize=10)\n",
    "intervals_of_constancy  += text(\"-\", (2 , y_margin), color=\"black\", fontsize=20)\n",
    "\n",
    "# оси не нужны - скрываем\n",
    "intervals_of_constancy.show(axes=False)"
   ]
  },
  {
   "cell_type": "markdown",
   "metadata": {},
   "source": [
    "<h2>5. Промежутки возрастания и убывания.</h2>"
   ]
  },
  {
   "cell_type": "markdown",
   "metadata": {},
   "source": [
    "Найдем производную и её интервалы знакопостоянства. Для этого сначала найдём точки, в которых производная равна 0."
   ]
  },
  {
   "cell_type": "code",
   "execution_count": 13,
   "metadata": {},
   "outputs": [
    {
     "data": {
      "text/html": [
       "<html><script type=\"math/tex; mode=display\">\\newcommand{\\Bold}[1]{\\mathbf{#1}}-\\frac{30 \\, x^{5} - 29 \\, x}{x^{4} - 1}</script></html>"
      ],
      "text/latex": [
       "\\begin{math}\n",
       "\\newcommand{\\Bold}[1]{\\mathbf{#1}}-\\frac{30 \\, x^{5} - 29 \\, x}{x^{4} - 1}\n",
       "\\end{math}"
      ],
      "text/plain": [
       "-(30*x^5 - 29*x)/(x^4 - 1)"
      ]
     },
     "metadata": {},
     "output_type": "display_data"
    }
   ],
   "source": [
    "dif = y.diff().expand().simplify_full()\n",
    "show(dif)"
   ]
  },
  {
   "cell_type": "code",
   "execution_count": 14,
   "metadata": {},
   "outputs": [
    {
     "data": {
      "text/html": [
       "<html><script type=\"math/tex; mode=display\">\\newcommand{\\Bold}[1]{\\mathbf{#1}}\\left[x = \\frac{1}{30} i \\cdot 30^{\\frac{3}{4}} 29^{\\frac{1}{4}}, x = -\\frac{1}{30} \\cdot 30^{\\frac{3}{4}} 29^{\\frac{1}{4}}, x = -\\frac{1}{30} i \\cdot 30^{\\frac{3}{4}} 29^{\\frac{1}{4}}, x = \\frac{1}{30} \\cdot 30^{\\frac{3}{4}} 29^{\\frac{1}{4}}, x = 0\\right]</script></html>"
      ],
      "text/latex": [
       "\\begin{math}\n",
       "\\newcommand{\\Bold}[1]{\\mathbf{#1}}\\left[x = \\frac{1}{30} i \\cdot 30^{\\frac{3}{4}} 29^{\\frac{1}{4}}, x = -\\frac{1}{30} \\cdot 30^{\\frac{3}{4}} 29^{\\frac{1}{4}}, x = -\\frac{1}{30} i \\cdot 30^{\\frac{3}{4}} 29^{\\frac{1}{4}}, x = \\frac{1}{30} \\cdot 30^{\\frac{3}{4}} 29^{\\frac{1}{4}}, x = 0\\right]\n",
       "\\end{math}"
      ],
      "text/plain": [
       "[x == 1/30*I*30^(3/4)*29^(1/4), x == -1/30*30^(3/4)*29^(1/4), x == -1/30*I*30^(3/4)*29^(1/4), x == 1/30*30^(3/4)*29^(1/4), x == 0]"
      ]
     },
     "metadata": {},
     "output_type": "display_data"
    }
   ],
   "source": [
    "show(solve(dif==0, x))"
   ]
  },
  {
   "cell_type": "markdown",
   "metadata": {},
   "source": [
    "Данное уравнение имеет явный корень $x = 0$, плюс 2 действительных корня и 2 комплексных. Но эти значения (действительные) не входят в наше ОДЗ (все они лежат в промежутке $[-1, 1]$), значит эти корни не подходят, и производная никогда не станет равна 0.  \n",
    "\n",
    "\n",
    "Однако мы можем проследить, как она ведёт себя справа и слева от этих точек (а точнее от промежутка $[-1, 1]$)."
   ]
  },
  {
   "cell_type": "code",
   "execution_count": 15,
   "metadata": {},
   "outputs": [
    {
     "data": {
      "text/plain": [
       "902/15"
      ]
     },
     "execution_count": 15,
     "metadata": {},
     "output_type": "execute_result"
    }
   ],
   "source": [
    "dif(0 - 2)"
   ]
  },
  {
   "cell_type": "code",
   "execution_count": 16,
   "metadata": {},
   "outputs": [
    {
     "data": {
      "text/plain": [
       "-902/15"
      ]
     },
     "execution_count": 16,
     "metadata": {},
     "output_type": "execute_result"
    }
   ],
   "source": [
    "dif(0 + 2)"
   ]
  },
  {
   "cell_type": "markdown",
   "metadata": {},
   "source": [
    "Как мы видим, слева от найденных корней производная положительная, значит там функция возрастает.  \n",
    "Справа же производная отрицательная, значит там функция убывает.  \n",
    "Получаем: функция возрастает при $x \\in (-\\infty; -1)$ и убывает при $x \\in (1; \\infty)$"
   ]
  },
  {
   "cell_type": "markdown",
   "metadata": {},
   "source": [
    "<h2>6. Точки экстремума и значения в этих точках.</h2>"
   ]
  },
  {
   "cell_type": "markdown",
   "metadata": {},
   "source": [
    "Точки экстремума достигаются там, где производная функции равна 0. Мы уже решали нужное для этого уравнение выше, и нашли лишь корни, не вхоядщие в ОДЗ.  \n",
    "Следовательно, у этой функции нет экстремумов на области определения."
   ]
  },
  {
   "cell_type": "markdown",
   "metadata": {},
   "source": [
    "<h2>7. Непрерывность. Наличие точек разрыва и их классификация.</h2>"
   ]
  },
  {
   "cell_type": "markdown",
   "metadata": {},
   "source": [
    "Чтобы определить вид разрыва функции, надо найти левый и правый пределы в точках разрыва функции. Мы будем находить эти пределы на концах отрезка $[-1, 1]$."
   ]
  },
  {
   "cell_type": "code",
   "execution_count": 17,
   "metadata": {},
   "outputs": [
    {
     "data": {
      "text/plain": [
       "+Infinity"
      ]
     },
     "execution_count": 17,
     "metadata": {},
     "output_type": "execute_result"
    }
   ],
   "source": [
    "limit(y(x), x=-(-1))"
   ]
  },
  {
   "cell_type": "code",
   "execution_count": 18,
   "metadata": {},
   "outputs": [
    {
     "data": {
      "text/plain": [
       "+Infinity"
      ]
     },
     "execution_count": 18,
     "metadata": {},
     "output_type": "execute_result"
    }
   ],
   "source": [
    "limit(y(x), x=+(-1))"
   ]
  },
  {
   "cell_type": "code",
   "execution_count": 19,
   "metadata": {},
   "outputs": [
    {
     "data": {
      "text/plain": [
       "+Infinity"
      ]
     },
     "execution_count": 19,
     "metadata": {},
     "output_type": "execute_result"
    }
   ],
   "source": [
    "limit(y(x), x=+1)"
   ]
  },
  {
   "cell_type": "code",
   "execution_count": 20,
   "metadata": {},
   "outputs": [
    {
     "data": {
      "text/plain": [
       "+Infinity"
      ]
     },
     "execution_count": 20,
     "metadata": {},
     "output_type": "execute_result"
    }
   ],
   "source": [
    "limit(y(x), x=-1)"
   ]
  },
  {
   "cell_type": "markdown",
   "metadata": {},
   "source": [
    "Как мы видим, в обоих точках 1 и -1 хотя бы один из односторонних пределов ревен бесконечности. Значит они обе - точки разрыва второго рода.\n",
    "Итог: 1 и -1 - точки разрыва второго рода.  \n",
    "И так как функция имеет точки разрыва, то следовательно, он не непрерывна на своей области определения."
   ]
  },
  {
   "cell_type": "markdown",
   "metadata": {},
   "source": [
    "<h2>8. Асимптоты.</h2>"
   ]
  },
  {
   "cell_type": "markdown",
   "metadata": {},
   "source": [
    "а) Если в точке $\\alpha$  функция  терпит бесконечный разрыв,  то прямая, заданная уравнением $x = \\alpha$ является вертикальной асимптотой графика.  \n",
    "У нас функция терпит бесконечный разрыв в точках 1 и -1. Следовательно это вертикальные асимптоты.\n",
    "\n",
    "б) Наклонные асимтоты обычно ищут в виде $y = kx + b$ \n",
    "\n",
    "   Находим коэффициент k: $\\lim_{x\\to \\infty} (y(x)/x) = 0$:\n",
    "    "
   ]
  },
  {
   "cell_type": "code",
   "execution_count": 21,
   "metadata": {},
   "outputs": [
    {
     "data": {
      "text/plain": [
       "-Infinity"
      ]
     },
     "execution_count": 21,
     "metadata": {},
     "output_type": "execute_result"
    }
   ],
   "source": [
    "limit(y(x)/x, x=infinity)"
   ]
  },
  {
   "cell_type": "markdown",
   "metadata": {},
   "source": [
    "Раз предел равен бесконечности, то получается, что наклонных асимптот у функции нет."
   ]
  },
  {
   "cell_type": "markdown",
   "metadata": {},
   "source": [
    "Построим график и его асимптоты:"
   ]
  },
  {
   "cell_type": "code",
   "execution_count": 22,
   "metadata": {},
   "outputs": [
    {
     "data": {
      "image/png": "[encoded data removed]",
      "text/plain": [
       "Graphics object consisting of 4 graphics primitives"
      ]
     },
     "metadata": {},
     "output_type": "display_data"
    }
   ],
   "source": [
    "func = plot(y,(x,-10,-1-1e-15), ymin = -500, ymax = 1)\n",
    "func += plot(y,(x,1+1e-15,10), ymin = -500, ymax = 1)\n",
    "asympt1 = line([(1,x) for x in srange(-1100,100,0.1)], color='green', linestyle=\"dashed\")\n",
    "asympt2 = line([(-1,x) for x in srange(-1100,100,0.1)], color='green', linestyle=\"dashed\")\n",
    "show(func + asympt1 + asympt2, figsize=12, axes_labels=['$x$','$y$'])"
   ]
  },
  {
   "cell_type": "code",
   "execution_count": null,
   "metadata": {},
   "outputs": [],
   "source": []
  }
 ],
 "metadata": {
  "kernelspec": {
   "display_name": "SageMath 9.2",
   "language": "sage",
   "name": "sagemath"
  },
  "language_info": {
   "codemirror_mode": {
    "name": "ipython",
    "version": 3
   },
   "file_extension": ".py",
   "mimetype": "text/x-python",
   "name": "python",
   "nbconvert_exporter": "python",
   "pygments_lexer": "ipython3",
   "version": "3.7.7"
  }
 },
 "nbformat": 4,
 "nbformat_minor": 4
}
